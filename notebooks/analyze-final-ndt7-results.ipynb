{
 "cells": [
  {
   "cell_type": "code",
   "execution_count": null,
   "metadata": {},
   "outputs": [],
   "source": [
    "import os\n",
    "import json\n",
    "import re\n",
    "\n",
    "import pandas as pd\n",
    "import seaborn as sns\n",
    "import matplotlib.pyplot as plt\n",
    "\n",
    "from pprint import pprint"
   ]
  },
  {
   "cell_type": "code",
   "execution_count": null,
   "metadata": {},
   "outputs": [],
   "source": [
    "\n",
    "def flatten_dict(d):\n",
    "    r = {}\n",
    "    q = [(\"\", x) for x in d.items()]\n",
    "    while len(q) > 0:\n",
    "        p, (k, v) = q.pop(0)\n",
    "        if type(v) is not dict:\n",
    "            r[f\"{p}{k}\".lower()] = v\n",
    "        else:\n",
    "            for x in v.items():\n",
    "                q.append((f\"{p}{k}_\", x))\n",
    "    return r\n",
    "\n",
    "\n",
    "def parse_final_results_ndt7(f):\n",
    "    final_results_line = f.readlines()[-1]\n",
    "    return flatten_dict(json.loads(final_results_line))\n",
    "\n",
    "\n",
    "def load_experiment_results(exp_dir):\n",
    "    file_dicts = []\n",
    "    for subdir in os.listdir(exp_dir):\n",
    "        if \"lan3\" not in subdir:\n",
    "            continue\n",
    "        splitted_subdir = subdir.split(\"_\")\n",
    "        speed = splitted_subdir[1]\n",
    "        latency = splitted_subdir[2]\n",
    "        pktloss = splitted_subdir[3]\n",
    "        aqm = '_'.join(splitted_subdir[4:])\n",
    "        subdir_path = os.path.join(exp_dir, subdir)\n",
    "        for filename in os.listdir(subdir_path):\n",
    "            datetime = pd.to_datetime(re.split(r'_|\\.', filename)[1])\n",
    "            filepath = os.path.join(subdir_path, filename)\n",
    "            with open(filepath) as f:\n",
    "                r = parse_final_results_ndt7(f)\n",
    "            r[\"speed\"] = speed\n",
    "            r[\"latency\"] = latency\n",
    "            r[\"pktloss\"] = pktloss\n",
    "            r[\"aqm\"] = aqm\n",
    "            r[\"datetime\"] = datetime\n",
    "            file_dicts.append(r)\n",
    "\n",
    "    return pd.DataFrame(file_dicts)\n",
    "\n",
    "\n",
    "# exp_dir = \"../data/data_json_3/\"\n",
    "# exp_dir = \"../data/data_json_4/\"\n",
    "# exp_dir = \"../data/data_json_900_ndt_notshaped/\"\n",
    "exp_dir = \"../data/data_json_900_ndt_shaped/\"\n",
    "final_df = load_experiment_results(exp_dir)"
   ]
  },
  {
   "cell_type": "code",
   "execution_count": null,
   "metadata": {},
   "outputs": [],
   "source": [
    "final_df.iloc[0]"
   ]
  },
  {
   "cell_type": "code",
   "execution_count": null,
   "metadata": {},
   "outputs": [],
   "source": [
    "final_df[\"upload_latency_value_2\"] = final_df[\"upload_latency_value\"] - 10.0"
   ]
  },
  {
   "cell_type": "code",
   "execution_count": null,
   "metadata": {},
   "outputs": [],
   "source": [
    "\n",
    "def generate_boxplots(df, result_col, result_label):\n",
    "    ylim = (df[result_col].min()*0.9, df[result_col].max()*1.1)\n",
    "    fig, axes = plt.subplots(3, 3, figsize=(12, 12))\n",
    "    for i, (speed, speed_df) in enumerate(sorted(df.groupby(\"speed\"))):\n",
    "        ax = axes[i//3][i%3]\n",
    "        xlabels = []\n",
    "        yvalues = []\n",
    "        # ylim = (speed_df[result_col].min()*0.9, speed_df[result_col].max()*1.1)\n",
    "        for aqm, aqm_df in sorted(speed_df.groupby(\"aqm\")):\n",
    "            xlabels.append(aqm)\n",
    "            yvalues.append(aqm_df[result_col])\n",
    "        ax.boxplot(yvalues, positions=range(len(xlabels)))\n",
    "        ax.set_xticklabels(xlabels)\n",
    "        ax.set_xlabel(\"Queueing Discipline\")\n",
    "        ax.set_ylabel(result_label)\n",
    "        # ax.set_ylim(ylim)\n",
    "        ax.set_title(f\"Bandwidth: {speed} Mbps\")\n",
    "    # plt.suptitle(result_label)\n",
    "    plt.tight_layout()\n",
    "    plt.show()\n",
    "    return fig\n"
   ]
  },
  {
   "cell_type": "code",
   "execution_count": null,
   "metadata": {},
   "outputs": [],
   "source": [
    "fig = generate_boxplots(final_df, \"upload_throughput_value\", \"Throughput (Mbps)\")"
   ]
  },
  {
   "cell_type": "code",
   "execution_count": null,
   "metadata": {},
   "outputs": [],
   "source": [
    "fig = generate_boxplots(final_df, \"upload_latency_value_2\", \"Latency (ms)\")"
   ]
  },
  {
   "cell_type": "code",
   "execution_count": null,
   "metadata": {},
   "outputs": [],
   "source": [
    "\n",
    "def generate_ecdfs(df, result_col, result_label):\n",
    "    fig, axes = plt.subplots(3, 3, figsize=(10, 10))\n",
    "    for i, (speed, speed_df) in enumerate(sorted(df.groupby(\"speed\"))):\n",
    "        ax = axes[i//3][i%3]\n",
    "        for aqm, aqm_df in sorted(speed_df.groupby(\"aqm\")):\n",
    "            sns.ecdfplot(aqm_df[result_col], label=aqm, ax=ax)\n",
    "        ax.set_xlabel(result_label)\n",
    "        ax.set_ylabel(\"CDF\")\n",
    "        ax.set_title(f\"Bandwidth: {speed} Mbps\")\n",
    "        ax.legend()\n",
    "    plt.tight_layout()\n",
    "    return fig\n"
   ]
  },
  {
   "cell_type": "code",
   "execution_count": null,
   "metadata": {},
   "outputs": [],
   "source": [
    "fig = generate_ecdfs(final_df, \"upload_throughput_value\", \"Throughput (Mbps)\")\n",
    "\n",
    "fig.savefig(\"figures/cdf_tput_estimate_ndt7.png\")"
   ]
  },
  {
   "cell_type": "code",
   "execution_count": null,
   "metadata": {},
   "outputs": [],
   "source": [
    "fig = generate_ecdfs(final_df, \"upload_latency_value\", \"Latency (ms)\")"
   ]
  }
 ],
 "metadata": {
  "kernelspec": {
   "display_name": "base",
   "language": "python",
   "name": "python3"
  },
  "language_info": {
   "codemirror_mode": {
    "name": "ipython",
    "version": 3
   },
   "file_extension": ".py",
   "mimetype": "text/x-python",
   "name": "python",
   "nbconvert_exporter": "python",
   "pygments_lexer": "ipython3",
   "version": "3.11.4"
  }
 },
 "nbformat": 4,
 "nbformat_minor": 2
}
